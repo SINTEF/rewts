{
 "cells": [
  {
   "cell_type": "code",
   "execution_count": null,
   "metadata": {
    "pycharm": {
     "name": "#%%\n"
    }
   },
   "outputs": [],
   "source": [
    "%load_ext autoreload\n",
    "%autoreload 2"
   ]
  },
  {
   "cell_type": "code",
   "execution_count": null,
   "metadata": {
    "pycharm": {
     "name": "#%%\n"
    }
   },
   "outputs": [],
   "source": [
    "import os\n",
    "\n",
    "import pyrootutils\n",
    "\n",
    "root = pyrootutils.setup_root(\n",
    "    search_from=os.getcwd(),\n",
    "    indicator=\".project-root\",\n",
    "    pythonpath=True,\n",
    "    dotenv=True,\n",
    ")"
   ]
  },
  {
   "cell_type": "code",
   "execution_count": null,
   "metadata": {
    "pycharm": {
     "name": "#%%\n"
    }
   },
   "outputs": [],
   "source": [
    "import matplotlib\n",
    "import matplotlib.pyplot as plt\n",
    "\n",
    "%matplotlib inline\n",
    "# %matplotlib notebook\n",
    "\n",
    "import darts.dataprocessing.encoders\n",
    "import darts.utils.statistics\n",
    "import hydra.utils\n",
    "import numpy as np\n",
    "import pandas as pd\n",
    "\n",
    "import src.utils\n",
    "import src.utils.plotting"
   ]
  },
  {
   "cell_type": "markdown",
   "metadata": {
    "pycharm": {
     "name": "#%% md\n"
    }
   },
   "source": [
    "# Configuration"
   ]
  },
  {
   "cell_type": "code",
   "execution_count": null,
   "metadata": {
    "pycharm": {
     "name": "#%%\n"
    }
   },
   "outputs": [],
   "source": [
    "config_path = os.path.join(\n",
    "    \"..\", \"..\", \"configs\", \"train.yaml\"\n",
    ")  # NB: relative to <project_root>/src/utils (must be relative path)\n",
    "\n",
    "config_overrides_dot = [  # same notation as for cli overrides (dot notation). Useful for changing whole modules, e.g. change which datamodule file is loaded\n",
    "    \"datamodule=example_ettm1\"\n",
    "]\n",
    "config_overrides_dict = (\n",
    "    dict()\n",
    ")  # Dictionary with overrides. Useful for larger changes/additions/deletions that does not exist as entire files.\n",
    "\n",
    "cfg = src.utils.initialize_hydra(\n",
    "    config_path,\n",
    "    config_overrides_dot,\n",
    "    config_overrides_dict,\n",
    "    return_hydra_config=False,\n",
    "    print_config=False,\n",
    ")  # print config to inspect if all settings are as expected\n",
    "\n",
    "show_encoders = False"
   ]
  },
  {
   "cell_type": "code",
   "execution_count": null,
   "metadata": {
    "pycharm": {
     "name": "#%%\n"
    }
   },
   "outputs": [],
   "source": [
    "datamodule = hydra.utils.instantiate(cfg.datamodule, _convert_=\"partial\")\n",
    "datamodule.setup(\"fit\")\n",
    "\n",
    "if show_encoders and cfg.model.get(\"add_encoders\") is not None:\n",
    "    encoders = darts.dataprocessing.encoders.SequentialEncoder(\n",
    "        hydra.utils.instantiate(cfg.model.add_encoders),\n",
    "        takes_past_covariates=True,\n",
    "        takes_future_covariates=True,\n",
    "    )\n",
    "else:\n",
    "    encoders = None"
   ]
  },
  {
   "cell_type": "markdown",
   "metadata": {
    "pycharm": {
     "name": "#%% md\n"
    }
   },
   "source": [
    "# Data Exploration"
   ]
  },
  {
   "cell_type": "markdown",
   "metadata": {
    "pycharm": {
     "name": "#%% md\n"
    }
   },
   "source": [
    "## Plot datasets (values vs time)"
   ]
  },
  {
   "cell_type": "code",
   "execution_count": null,
   "metadata": {
    "pycharm": {
     "name": "#%%\n"
    }
   },
   "outputs": [],
   "source": [
    "# If slice = None, plot all data. If slice is not None, only plot data within (start_time, end_time)\n",
    "slice = None  # (pd.Timestamp(\"1966\"), pd.Timestamp(\"1975\")) # None\n",
    "_ = datamodule.plot_data(presenter=\"show\", slice=slice)\n",
    "\n",
    "if show_encoders and encoders is not None:\n",
    "    for split in [\"train\", \"val\", \"test\"]:\n",
    "        split_data = datamodule.get_data([\"target\"], main_split=\"train\")\n",
    "        if split_data is None:\n",
    "            continue\n",
    "        past_cov, future_cov = encoders.encode_train(target=split_data[\"target\"])\n",
    "        for cov_name, cov in zip([\"past\", \"future\"], [past_cov, future_cov]):\n",
    "            if cov is None:\n",
    "                continue\n",
    "            fig, axs = src.utils.plotting.create_figure(1, 1)\n",
    "            plt.sca(axs[0])\n",
    "            cov.plot()\n",
    "            plt.title(f\"dataset {split} encoding: {cov_name} covariate\")\n",
    "            src.utils.plotting.present_figure(fig, \"show\")"
   ]
  },
  {
   "cell_type": "markdown",
   "metadata": {
    "pycharm": {
     "name": "#%% md\n"
    }
   },
   "source": [
    "## Seasonality\n",
    "Seasonality (or autocorrelation) is the correlation of a timeseries with its past self. Weather will for instance follow yearly trends, being hotter in the summer and colder in the winter, and a seasons' temperature for the previous year will therefore  correlate with the seasons' next year's temperature. The following code aids in identifying if the data is seasonal, and if so with what frequency. Note that if the autocorrelation plot shows a high but linearly (ish) decaying trend then this can indicate that your data is essentially a random-walk. The blue shaded region corresponds to a confidence interval of (1 - alpha), i.e. with the default alpha = 0.05 we can be 95 % sure that the autocorrelation is real and not due to noise if the height of the bar at that lag is outside the blue shaded region.\n",
    "\n"
   ]
  },
  {
   "cell_type": "code",
   "execution_count": null,
   "metadata": {
    "pycharm": {
     "name": "#%%\n"
    }
   },
   "outputs": [],
   "source": [
    "series_to_plot = \"all\"\n",
    "# series_to_plot = {\"train\": {\"past_covariates\": \"all\"}}\n",
    "max_lag = 16\n",
    "highlight_lag = 12\n",
    "\n",
    "\n",
    "def seasonality_plot_func(ts):\n",
    "    return darts.utils.statistics.plot_acf(\n",
    "        ts, max_lag=max_lag, m=highlight_lag, alpha=0.05, fig_size=(10, 5)\n",
    "    )  # auto-correlation function\n",
    "\n",
    "\n",
    "def seasonality_partial_plot_func(ts):\n",
    "    return darts.utils.statistics.plot_pacf(\n",
    "        ts, m=highlight_lag, max_lag=max_lag, alpha=0.05, fig_size=(10, 5)\n",
    "    )  # partial auto-correlation function\n",
    "\n",
    "\n",
    "def seasonality_check_func(ts):\n",
    "    return darts.utils.statistics.check_seasonality(\n",
    "        ts, m=highlight_lag, max_lag=max_lag, alpha=0.05\n",
    "    )"
   ]
  },
  {
   "cell_type": "code",
   "execution_count": null,
   "metadata": {
    "pycharm": {
     "name": "#%%\n"
    }
   },
   "outputs": [],
   "source": [
    "datamodule.call_function_on_univariate_series(seasonality_check_func, series_to_plot)"
   ]
  },
  {
   "cell_type": "code",
   "execution_count": null,
   "metadata": {
    "pycharm": {
     "name": "#%%\n"
    }
   },
   "outputs": [],
   "source": [
    "_ = datamodule.call_function_on_univariate_series(\n",
    "    seasonality_plot_func, series_to_plot, presenter=\"show\"\n",
    ")"
   ]
  },
  {
   "cell_type": "markdown",
   "metadata": {
    "pycharm": {
     "name": "#%% md\n"
    }
   },
   "source": [
    "### Partial Autocorrelation\n",
    "TODO: Define"
   ]
  },
  {
   "cell_type": "code",
   "execution_count": null,
   "metadata": {
    "pycharm": {
     "name": "#%%\n"
    }
   },
   "outputs": [],
   "source": [
    "_ = datamodule.call_function_on_univariate_series(\n",
    "    seasonality_partial_plot_func, series_to_plot, presenter=\"show\"\n",
    ")"
   ]
  },
  {
   "cell_type": "markdown",
   "metadata": {
    "pycharm": {
     "name": "#%% md\n"
    }
   },
   "source": [
    "### Seasonal Decomposition"
   ]
  },
  {
   "cell_type": "code",
   "execution_count": null,
   "metadata": {
    "pycharm": {
     "name": "#%%\n"
    }
   },
   "outputs": [],
   "source": [
    "def stl_trend_plot_func(ts):\n",
    "    return darts.utils.statistics.extract_trend_and_seasonality(\n",
    "        ts, model=darts.utils.utils.SeasonalityMode(\"additive\"), freq=4, method=\"STL\"\n",
    "    )  # returns Tuple[trend, season]\n",
    "\n",
    "\n",
    "stl_res = datamodule.call_function_on_univariate_series(stl_trend_plot_func, series_to_plot)"
   ]
  },
  {
   "cell_type": "code",
   "execution_count": null,
   "metadata": {
    "pycharm": {
     "name": "#%%\n"
    }
   },
   "outputs": [],
   "source": [
    "for split in stl_res:\n",
    "    for data_type in stl_res[split]:\n",
    "        for component_name, data in stl_res[split][data_type].items():\n",
    "            src.utils.plotting.plot_darts_timeseries(\n",
    "                data[0], title=f\"Trend for {split}/{data_type}/{component_name}\", presenter=\"show\"\n",
    "            )\n",
    "            src.utils.plotting.plot_darts_timeseries(\n",
    "                data[1], title=f\"Season for {split}/{data_type}/{component_name}\", presenter=\"show\"\n",
    "            )"
   ]
  },
  {
   "cell_type": "markdown",
   "metadata": {
    "pycharm": {
     "name": "#%% md\n"
    }
   },
   "source": [
    "## Histogram"
   ]
  },
  {
   "cell_type": "code",
   "execution_count": null,
   "metadata": {
    "pycharm": {
     "name": "#%%\n"
    }
   },
   "outputs": [],
   "source": [
    "series_to_plot = \"all\"  # {\"test\": {\"actual_anomalies\": \"all\"}}\n",
    "\n",
    "\n",
    "def hist_plot_func(ts):\n",
    "    return darts.utils.statistics.plot_hist(\n",
    "        ts, bins=src.utils.hist_bin_num_freedman_diaconis(ts), density=True\n",
    "    )\n",
    "\n",
    "\n",
    "_ = datamodule.call_function_on_univariate_series(hist_plot_func, series_to_plot, presenter=\"show\")"
   ]
  },
  {
   "cell_type": "markdown",
   "metadata": {
    "pycharm": {
     "name": "#%% md\n"
    }
   },
   "source": [
    "## Stationarity"
   ]
  },
  {
   "cell_type": "code",
   "execution_count": null,
   "metadata": {
    "pycharm": {
     "name": "#%%\n"
    }
   },
   "outputs": [],
   "source": [
    "series_to_check = \"all\"\n",
    "\n",
    "\n",
    "def adf_test_func(ts):\n",
    "    return darts.utils.statistics.stationarity_test_adf(\n",
    "        ts, maxlag=None, regression=\"c\", autolag=\"AIC\"\n",
    "    )  # Augmented Dickey-Fuller unit root test for a time series\n",
    "\n",
    "\n",
    "datamodule.call_function_on_univariate_series(adf_test_func, series_to_check)"
   ]
  },
  {
   "cell_type": "markdown",
   "metadata": {
    "pycharm": {
     "name": "#%% md\n"
    }
   },
   "source": [
    "## Feature Correlation"
   ]
  },
  {
   "cell_type": "markdown",
   "metadata": {
    "pycharm": {
     "name": "#%% md\n"
    }
   },
   "source": [
    "### Cross Correlation Matrix (aggregates over time)"
   ]
  },
  {
   "cell_type": "code",
   "execution_count": null,
   "metadata": {
    "pycharm": {
     "name": "#%%\n"
    }
   },
   "outputs": [],
   "source": [
    "df = datamodule.data.pd_dataframe()\n",
    "\n",
    "if show_encoders and encoders is not None:\n",
    "    for cov in encoders.encode_train(target=datamodule.data):\n",
    "        if cov is None:\n",
    "            continue\n",
    "        df = pd.merge(df, cov.pd_dataframe(), left_index=True, right_index=True)\n",
    "\n",
    "corr = df.corr()\n",
    "\n",
    "# make correlation matrix upper triangular as it is symmetric\n",
    "corr = corr.where(np.triu(np.ones(corr.shape)).astype(bool))\n",
    "\n",
    "corr.style.background_gradient(cmap=\"coolwarm\", vmin=-1, vmax=1).format(precision=2)"
   ]
  },
  {
   "cell_type": "markdown",
   "metadata": {
    "pycharm": {
     "name": "#%% md\n"
    }
   },
   "source": [
    "### Cross Correlation in time"
   ]
  },
  {
   "cell_type": "code",
   "execution_count": null,
   "metadata": {
    "pycharm": {
     "name": "#%%\n"
    }
   },
   "outputs": [],
   "source": [
    "series_to_plot = {\"train\": \"all\"}\n",
    "max_lag = 16\n",
    "highlight_lag = 12\n",
    "\n",
    "\n",
    "def cross_correlation_func(ts1, ts2):\n",
    "    return darts.utils.statistics.plot_ccf(\n",
    "        ts1, ts2, max_lag=max_lag, m=highlight_lag, alpha=0.05, fig_size=(10, 5)\n",
    "    )  # cross-correlation function"
   ]
  },
  {
   "cell_type": "code",
   "execution_count": null,
   "metadata": {
    "pycharm": {
     "name": "#%%\n"
    }
   },
   "outputs": [],
   "source": [
    "_ = datamodule.call_function_on_pairs_of_univariate_series(\n",
    "    cross_correlation_func, series_to_plot, presenter=\"show\"\n",
    ")"
   ]
  },
  {
   "cell_type": "markdown",
   "metadata": {
    "pycharm": {
     "name": "#%% md\n"
    }
   },
   "source": [
    "### Cross Correlation in time"
   ]
  },
  {
   "cell_type": "code",
   "execution_count": null,
   "metadata": {
    "pycharm": {
     "name": "#%%\n"
    }
   },
   "outputs": [],
   "source": [
    "series_to_plot = {\"train\": \"all\"}\n",
    "max_lag = 16\n",
    "highlight_lag = 12\n",
    "\n",
    "\n",
    "def cross_correlation_func(ts1, ts2):\n",
    "    return darts.utils.statistics.plot_ccf(\n",
    "        ts1, ts2, max_lag=max_lag, m=highlight_lag, alpha=0.05, fig_size=(10, 5)\n",
    "    )  # cross-correlation function"
   ]
  },
  {
   "cell_type": "code",
   "execution_count": null,
   "metadata": {
    "pycharm": {
     "name": "#%%\n"
    }
   },
   "outputs": [],
   "source": [
    "_ = datamodule.call_function_on_pairs_of_univariate_series(\n",
    "    cross_correlation_func, series_to_plot, presenter=\"show\"\n",
    ")"
   ]
  }
 ],
 "metadata": {
  "kernelspec": {
   "display_name": "Python 3 (ipykernel)",
   "language": "python",
   "name": "python3"
  },
  "language_info": {
   "codemirror_mode": {
    "name": "ipython",
    "version": 3
   },
   "file_extension": ".py",
   "mimetype": "text/x-python",
   "name": "python",
   "nbconvert_exporter": "python",
   "pygments_lexer": "ipython3",
   "version": "3.9.16"
  }
 },
 "nbformat": 4,
 "nbformat_minor": 1
}
