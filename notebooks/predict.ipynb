{
 "cells": [
  {
   "cell_type": "code",
   "execution_count": null,
   "metadata": {},
   "outputs": [],
   "source": [
    "%load_ext autoreload\n",
    "%autoreload 2"
   ]
  },
  {
   "cell_type": "code",
   "execution_count": null,
   "metadata": {},
   "outputs": [],
   "source": [
    "import os\n",
    "import pyrootutils\n",
    "\n",
    "root = pyrootutils.setup_root(\n",
    "    search_from=os.getcwd(),\n",
    "    indicator=\".project-root\",\n",
    "    pythonpath=True,\n",
    "    dotenv=True,\n",
    ")"
   ]
  },
  {
   "cell_type": "code",
   "execution_count": null,
   "metadata": {},
   "outputs": [],
   "source": [
    "%matplotlib inline\n",
    "\n",
    "import src.utils\n",
    "import src.predict\n",
    "import omegaconf"
   ]
  },
  {
   "cell_type": "markdown",
   "metadata": {},
   "source": [
    "# Configuration\n"
   ]
  },
  {
   "cell_type": "code",
   "execution_count": null,
   "metadata": {},
   "outputs": [],
   "source": [
    "# to use ensemble: i) set multiple model_dirs, ii) set to parent directory of several model_dirs, iii) set to glob pattern (e.g. logs/train/multiruns/2023_10-14_*)\n",
    "model_dir = [\"logs/train/multiruns/2023-10-13_15-25-56/0\", \"logs/train/multiruns/2023-10-13_15-25-56/1\"]\n",
    "model_dir = [src.utils.get_absolute_project_path(md) for md in model_dir]\n",
    "\n",
    "config_path = os.path.join(\"..\", \"..\", \"configs\", \"predict.yaml\") # NB: relative to <project_root>/src/utils (must be relative path)\n",
    "\n",
    "config_overrides_dot = [# same notation as for cli overrides (dot notation). Useful for changing whole modules, e.g. change which datamodule file is loaded\n",
    "    \"++predict.presenter=null\",  # set presenter to null to return figures\n",
    "    \"++extras.disable_pytorch_lightning_output=True\",\n",
    "    \"++datamodule.crop_data_range=null\",\n",
    "    \"++datamodule.check_for_nan=False\"\n",
    "]\n",
    "config_overrides_dict = dict(model_dir=model_dir)  # Dictionary with overrides. Useful for larger changes/additions/deletions that does not exist as entire files.\n",
    "\n",
    "cfg = src.utils.initialize_hydra(config_path, config_overrides_dot, config_overrides_dict, return_hydra_config=True, print_config=False)  # print config to inspect if all settings are as expected"
   ]
  },
  {
   "cell_type": "code",
   "execution_count": null,
   "metadata": {},
   "outputs": [],
   "source": [
    "object_dict = src.utils.initialize_saved_objects(cfg)\n",
    "model, datamodule = object_dict[\"model\"], object_dict[\"datamodule\"]"
   ]
  },
  {
   "cell_type": "code",
   "execution_count": null,
   "outputs": [],
   "source": [
    "with omegaconf.open_dict(cfg):\n",
    "    cfg.predict.kwargs.n = 24\n",
    "    cfg.predict.indices = [0.5, 0.75]"
   ],
   "metadata": {
    "collapsed": false
   }
  },
  {
   "cell_type": "markdown",
   "source": [
    "# Predict\n",
    "The src.predict.run function returns the configured metrics evaluated over the predictions, the predictions themselves, and any figures configured."
   ],
   "metadata": {
    "collapsed": false
   }
  },
  {
   "cell_type": "code",
   "execution_count": null,
   "metadata": {},
   "outputs": [],
   "source": [
    "metric_dict, predictions, figs = src.predict.run(cfg, datamodule, model)"
   ]
  },
  {
   "cell_type": "code",
   "execution_count": null,
   "outputs": [],
   "source": [],
   "metadata": {
    "collapsed": false
   }
  }
 ],
 "metadata": {
  "kernelspec": {
   "display_name": "Python 3 (ipykernel)",
   "language": "python",
   "name": "python3"
  },
  "language_info": {
   "codemirror_mode": {
    "name": "ipython",
    "version": 3
   },
   "file_extension": ".py",
   "mimetype": "text/x-python",
   "name": "python",
   "nbconvert_exporter": "python",
   "pygments_lexer": "ipython3",
   "version": "3.9.16"
  }
 },
 "nbformat": 4,
 "nbformat_minor": 1
}
