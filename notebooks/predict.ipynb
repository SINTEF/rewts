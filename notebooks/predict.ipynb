{
 "cells": [
  {
   "cell_type": "code",
   "execution_count": null,
   "metadata": {},
   "outputs": [],
   "source": [
    "%load_ext autoreload\n",
    "%autoreload 2"
   ]
  },
  {
   "cell_type": "code",
   "execution_count": null,
   "metadata": {},
   "outputs": [],
   "source": [
    "import os\n",
    "\n",
    "import pyrootutils\n",
    "\n",
    "root = pyrootutils.setup_root(\n",
    "    search_from=os.getcwd(),\n",
    "    indicator=\".project-root\",\n",
    "    pythonpath=True,\n",
    "    dotenv=True,\n",
    ")"
   ]
  },
  {
   "cell_type": "code",
   "execution_count": null,
   "metadata": {},
   "outputs": [],
   "source": [
    "%matplotlib inline\n",
    "\n",
    "import omegaconf\n",
    "\n",
    "import src.predict\n",
    "import src.utils"
   ]
  },
  {
   "cell_type": "markdown",
   "metadata": {},
   "source": [
    "# Configuration\n"
   ]
  },
  {
   "cell_type": "code",
   "execution_count": null,
   "metadata": {},
   "outputs": [],
   "source": [
    "# to use ensemble: i) set multiple model_dirs, ii) set to parent directory of several model_dirs, iii) set to glob pattern (e.g. logs/train/multiruns/2023_10-14_*)\n",
    "model_dir = [\n",
    "    \"logs/train/multiruns/2023-10-13_15-25-56/0\",\n",
    "    \"logs/train/multiruns/2023-10-13_15-25-56/1\",\n",
    "]\n",
    "model_dir = [src.utils.get_absolute_project_path(md) for md in model_dir]\n",
    "\n",
    "config_path = os.path.join(\n",
    "    \"..\", \"..\", \"configs\", \"predict.yaml\"\n",
    ")  # NB: relative to <project_root>/src/utils (must be relative path)\n",
    "\n",
    "config_overrides_dot = [  # same notation as for cli overrides (dot notation). Useful for changing whole modules, e.g. change which datamodule file is loaded\n",
    "    \"++predict.presenter=null\",  # set presenter to null to return figures\n",
    "    \"++extras.disable_pytorch_lightning_output=True\",\n",
    "    \"++datamodule.crop_data_range=null\",\n",
    "    \"++datamodule.check_for_nan=False\",\n",
    "]\n",
    "config_overrides_dict = dict(\n",
    "    model_dir=model_dir\n",
    ")  # Dictionary with overrides. Useful for larger changes/additions/deletions that does not exist as entire files.\n",
    "\n",
    "cfg = src.utils.initialize_hydra(\n",
    "    config_path,\n",
    "    config_overrides_dot,\n",
    "    config_overrides_dict,\n",
    "    return_hydra_config=True,  # create run directory in logs/eval\n",
    "    print_config=False,\n",
    ")  # print config to inspect if all settings are as expected"
   ]
  },
  {
   "cell_type": "code",
   "execution_count": null,
   "metadata": {},
   "outputs": [],
   "source": [
    "object_dict = src.utils.initialize_saved_objects(cfg)\n",
    "model, datamodule = object_dict[\"model\"], object_dict[\"datamodule\"]"
   ]
  },
  {
   "cell_type": "code",
   "execution_count": null,
   "metadata": {},
   "outputs": [],
   "source": [
    "with omegaconf.open_dict(cfg):\n",
    "    cfg.predict.kwargs.n = 24\n",
    "    cfg.predict.indices = [0.5, 0.75]"
   ]
  },
  {
   "cell_type": "markdown",
   "metadata": {},
   "source": [
    "# Predict\n",
    "The src.predict.run function returns the configured metrics evaluated over the predictions, the predictions themselves, and any figures configured."
   ]
  },
  {
   "cell_type": "code",
   "execution_count": null,
   "metadata": {},
   "outputs": [],
   "source": [
    "metric_dict, predictions, figs = src.predict.run(cfg, datamodule, model)"
   ]
  },
  {
   "cell_type": "code",
   "execution_count": null,
   "metadata": {},
   "outputs": [],
   "source": []
  }
 ],
 "metadata": {
  "kernelspec": {
   "display_name": "Python 3 (ipykernel)",
   "language": "python",
   "name": "python3"
  },
  "language_info": {
   "codemirror_mode": {
    "name": "ipython",
    "version": 3
   },
   "file_extension": ".py",
   "mimetype": "text/x-python",
   "name": "python",
   "nbconvert_exporter": "python",
   "pygments_lexer": "ipython3",
   "version": "3.9.16"
  }
 },
 "nbformat": 4,
 "nbformat_minor": 1
}
